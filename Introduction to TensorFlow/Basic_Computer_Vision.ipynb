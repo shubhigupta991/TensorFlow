{
  "nbformat": 4,
  "nbformat_minor": 0,
  "metadata": {
    "kernelspec": {
      "display_name": "Python 3",
      "language": "python",
      "name": "python3"
    },
    "language_info": {
      "codemirror_mode": {
        "name": "ipython",
        "version": 3
      },
      "file_extension": ".py",
      "mimetype": "text/x-python",
      "name": "python",
      "nbconvert_exporter": "python",
      "pygments_lexer": "ipython3",
      "version": "3.8.3"
    },
    "colab": {
      "name": "Basic_Computer_Vision.ipynb",
      "provenance": []
    }
  },
  "cells": [
    {
      "cell_type": "markdown",
      "metadata": {
        "id": "hLgB_XzIFCUi"
      },
      "source": [
        "## Importing the libraries"
      ]
    },
    {
      "cell_type": "code",
      "metadata": {
        "id": "CcuvmoxlFCUj"
      },
      "source": [
        "import tensorflow as tf"
      ],
      "execution_count": 1,
      "outputs": []
    },
    {
      "cell_type": "markdown",
      "metadata": {
        "id": "qnMjInl6FCUj"
      },
      "source": [
        "## Importing the datasets\n",
        "\n",
        "* Fanshion MNIST dataset\n",
        "* MNIST dataset"
      ]
    },
    {
      "cell_type": "code",
      "metadata": {
        "id": "xMxDy6__FCUk"
      },
      "source": [
        "fashion_mnist = tf.keras.datasets.fashion_mnist\n",
        "mnist = tf.keras.datasets.mnist"
      ],
      "execution_count": 2,
      "outputs": []
    },
    {
      "cell_type": "markdown",
      "metadata": {
        "id": "GzldmjBcFCUk"
      },
      "source": [
        "# Fashion MNIST"
      ]
    },
    {
      "cell_type": "markdown",
      "metadata": {
        "id": "1SDtWHMuFCUl"
      },
      "source": [
        "## Loading the data"
      ]
    },
    {
      "cell_type": "code",
      "metadata": {
        "colab": {
          "base_uri": "https://localhost:8080/"
        },
        "id": "OF9bTh5PFCUl",
        "outputId": "81aefeb1-5d76-4b7c-e8a2-10e66f683f4f"
      },
      "source": [
        "(training_images,training_labels) , (test_images,test_labels) = fashion_mnist.load_data()\n",
        "\n",
        "print(\"The shape of training images is {}\".format(training_images.shape))\n",
        "print(\"The shape of training labels is {}\".format(training_labels.shape))\n",
        "print(\"The shape of test images is {}\".format(test_images.shape))\n",
        "print(\"The shape of test labels is {}\".format(test_labels.shape))"
      ],
      "execution_count": 3,
      "outputs": [
        {
          "output_type": "stream",
          "text": [
            "The shape of training images is (60000, 28, 28)\n",
            "The shape of training labels is (60000,)\n",
            "The shape of test images is (10000, 28, 28)\n",
            "The shape of test labels is (10000,)\n"
          ],
          "name": "stdout"
        }
      ]
    },
    {
      "cell_type": "markdown",
      "metadata": {
        "id": "Kv6A3XJaFCUl"
      },
      "source": [
        "## Scaling or Normalising the data"
      ]
    },
    {
      "cell_type": "code",
      "metadata": {
        "id": "rLmqZXLZFCUm"
      },
      "source": [
        "training_images = training_images/255.0\n",
        "test_images = test_images/255.0"
      ],
      "execution_count": 4,
      "outputs": []
    },
    {
      "cell_type": "markdown",
      "metadata": {
        "id": "gY0NTQbwFCUm"
      },
      "source": [
        "## Defining and compiling the model"
      ]
    },
    {
      "cell_type": "code",
      "metadata": {
        "id": "UPqesPRzFCUn"
      },
      "source": [
        "model = tf.keras.models.Sequential([\n",
        "    tf.keras.layers.Flatten(),\n",
        "    tf.keras.layers.Dense(128,activation='relu'),\n",
        "    tf.keras.layers.Dense(10,activation='softmax')\n",
        "])\n",
        "model.compile(optimizer = 'Adam', loss = 'sparse_categorical_crossentropy', metrics = ['accuracy'])"
      ],
      "execution_count": 5,
      "outputs": []
    },
    {
      "cell_type": "markdown",
      "metadata": {
        "id": "BUUJHI4GFCUn"
      },
      "source": [
        "## Creating a Callback"
      ]
    },
    {
      "cell_type": "code",
      "metadata": {
        "id": "_lMJbn1gFCUn"
      },
      "source": [
        "class myCallback(tf.keras.callbacks.Callback):\n",
        "    def on_epoch_end(self,epochs,logs = {}):\n",
        "        if (logs.get('loss') < 0.4):\n",
        "            print('\\n Reached 60% accuracy so cancelling training!')\n",
        "            self.model.stop_training = True"
      ],
      "execution_count": 6,
      "outputs": []
    },
    {
      "cell_type": "markdown",
      "metadata": {
        "id": "7EdaOMQMFCUo"
      },
      "source": [
        "## Training a Neural Network"
      ]
    },
    {
      "cell_type": "code",
      "metadata": {
        "colab": {
          "base_uri": "https://localhost:8080/"
        },
        "id": "ncaClPThFCUo",
        "outputId": "0467c83d-88a5-420e-f059-1de7da3d43f4"
      },
      "source": [
        "callback = myCallback()\n",
        "\n",
        "model.fit(training_images,training_labels , epochs = 5, callbacks = [callback])"
      ],
      "execution_count": 7,
      "outputs": [
        {
          "output_type": "stream",
          "text": [
            "Epoch 1/5\n",
            "1875/1875 [==============================] - 4s 2ms/step - loss: 0.4946 - accuracy: 0.8255\n",
            "Epoch 2/5\n",
            "1875/1875 [==============================] - 4s 2ms/step - loss: 0.3739 - accuracy: 0.8645\n",
            "\n",
            " Reached 60% accuracy so cancelling training!\n"
          ],
          "name": "stdout"
        },
        {
          "output_type": "execute_result",
          "data": {
            "text/plain": [
              "<tensorflow.python.keras.callbacks.History at 0x7f412694ab90>"
            ]
          },
          "metadata": {
            "tags": []
          },
          "execution_count": 7
        }
      ]
    },
    {
      "cell_type": "markdown",
      "metadata": {
        "id": "3Ns12aoXFCUo"
      },
      "source": [
        "## Evaluating the model on test set"
      ]
    },
    {
      "cell_type": "code",
      "metadata": {
        "colab": {
          "base_uri": "https://localhost:8080/"
        },
        "id": "wx1bxVqXFCUo",
        "outputId": "0942e58b-ed25-433e-ce66-b9d7074845c6"
      },
      "source": [
        "model.evaluate(test_images,test_labels)"
      ],
      "execution_count": 8,
      "outputs": [
        {
          "output_type": "stream",
          "text": [
            "313/313 [==============================] - 1s 1ms/step - loss: 0.4263 - accuracy: 0.8457\n"
          ],
          "name": "stdout"
        },
        {
          "output_type": "execute_result",
          "data": {
            "text/plain": [
              "[0.4262836277484894, 0.8457000255584717]"
            ]
          },
          "metadata": {
            "tags": []
          },
          "execution_count": 8
        }
      ]
    },
    {
      "cell_type": "markdown",
      "metadata": {
        "id": "2YTScVZlFCUo"
      },
      "source": [
        "# MNIST "
      ]
    },
    {
      "cell_type": "markdown",
      "metadata": {
        "id": "F9rX9AuaFCUo"
      },
      "source": [
        "## Loading the data"
      ]
    },
    {
      "cell_type": "code",
      "metadata": {
        "colab": {
          "base_uri": "https://localhost:8080/"
        },
        "id": "B_-c8bnTFCUp",
        "outputId": "cac9767a-5515-4fd3-cf9a-a2378467dec4"
      },
      "source": [
        "(X_train,y_train), (X_test,y_test) = mnist.load_data()\n",
        "\n",
        "print(\"The shape of training images is {}\".format(X_train.shape))\n",
        "print(\"The shape of training labels is {}\".format(y_train.shape))\n",
        "print(\"The shape of test images is {}\".format(X_test.shape))\n",
        "print(\"The shape of test labels is {}\".format(y_test.shape))"
      ],
      "execution_count": 9,
      "outputs": [
        {
          "output_type": "stream",
          "text": [
            "The shape of training images is (60000, 28, 28)\n",
            "The shape of training labels is (60000,)\n",
            "The shape of test images is (10000, 28, 28)\n",
            "The shape of test labels is (10000,)\n"
          ],
          "name": "stdout"
        }
      ]
    },
    {
      "cell_type": "markdown",
      "metadata": {
        "id": "_IX9kuCaFCUp"
      },
      "source": [
        "## Scaling or Normalising the data"
      ]
    },
    {
      "cell_type": "code",
      "metadata": {
        "id": "KaQb8Is5FCUp"
      },
      "source": [
        "X_train = X_train/255.0\n",
        "X_test = X_test/255.0"
      ],
      "execution_count": 10,
      "outputs": []
    },
    {
      "cell_type": "markdown",
      "metadata": {
        "id": "eogjcSidFCUp"
      },
      "source": [
        "## Creating a Callback"
      ]
    },
    {
      "cell_type": "code",
      "metadata": {
        "id": "0CGRXPn6FCUp"
      },
      "source": [
        "class myCallback(tf.keras.callbacks.Callback):\n",
        "    def on_epoch_end(self,epochs,logs = {}):\n",
        "        if (logs.get('accuracy') > 0.99):\n",
        "            print('\\n Reached 99% accuracy so cancelling training!')\n",
        "            self.model.stop_training = True"
      ],
      "execution_count": 11,
      "outputs": []
    },
    {
      "cell_type": "markdown",
      "metadata": {
        "id": "6XO2QuAPFCUp"
      },
      "source": [
        "## Training the previous model on this dataset"
      ]
    },
    {
      "cell_type": "code",
      "metadata": {
        "colab": {
          "base_uri": "https://localhost:8080/"
        },
        "id": "eA35RKBtFCUq",
        "outputId": "b1fac5cb-0e42-4ece-9a3a-1cf693fa9e63"
      },
      "source": [
        "callback = myCallback()\n",
        "\n",
        "model.fit(X_train,y_train , epochs = 10, callbacks = [callback])"
      ],
      "execution_count": 12,
      "outputs": [
        {
          "output_type": "stream",
          "text": [
            "Epoch 1/10\n",
            "1875/1875 [==============================] - 4s 2ms/step - loss: 0.2716 - accuracy: 0.9216\n",
            "Epoch 2/10\n",
            "1875/1875 [==============================] - 3s 2ms/step - loss: 0.1208 - accuracy: 0.9640\n",
            "Epoch 3/10\n",
            "1875/1875 [==============================] - 3s 2ms/step - loss: 0.0849 - accuracy: 0.9748\n",
            "Epoch 4/10\n",
            "1875/1875 [==============================] - 3s 2ms/step - loss: 0.0639 - accuracy: 0.9808\n",
            "Epoch 5/10\n",
            "1875/1875 [==============================] - 4s 2ms/step - loss: 0.0504 - accuracy: 0.9848\n",
            "Epoch 6/10\n",
            "1875/1875 [==============================] - 4s 2ms/step - loss: 0.0405 - accuracy: 0.9873\n",
            "Epoch 7/10\n",
            "1875/1875 [==============================] - 4s 2ms/step - loss: 0.0319 - accuracy: 0.9904\n",
            "\n",
            " Reached 99% accuracy so cancelling training!\n"
          ],
          "name": "stdout"
        },
        {
          "output_type": "execute_result",
          "data": {
            "text/plain": [
              "<tensorflow.python.keras.callbacks.History at 0x7f41200d9510>"
            ]
          },
          "metadata": {
            "tags": []
          },
          "execution_count": 12
        }
      ]
    },
    {
      "cell_type": "markdown",
      "metadata": {
        "id": "ovhzLLHEKGDv"
      },
      "source": [
        "## Evaluating the model on test set"
      ]
    },
    {
      "cell_type": "code",
      "metadata": {
        "colab": {
          "base_uri": "https://localhost:8080/"
        },
        "id": "ocXhSDLjHbd4",
        "outputId": "e6550200-01ac-495d-e6c2-0abbc4e0fd44"
      },
      "source": [
        "model.evaluate(test_images,test_labels)"
      ],
      "execution_count": 13,
      "outputs": [
        {
          "output_type": "stream",
          "text": [
            "313/313 [==============================] - 0s 1ms/step - loss: 11.0525 - accuracy: 0.1673\n"
          ],
          "name": "stdout"
        },
        {
          "output_type": "execute_result",
          "data": {
            "text/plain": [
              "[11.052490234375, 0.1673000007867813]"
            ]
          },
          "metadata": {
            "tags": []
          },
          "execution_count": 13
        }
      ]
    }
  ]
}